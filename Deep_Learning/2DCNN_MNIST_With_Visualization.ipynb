{
  "cells": [
    {
      "cell_type": "markdown",
      "metadata": {
        "id": "4GVSrEQBLSO7"
      },
      "source": [
        "## A 2DCNN network for MNIST image classification"
      ]
    },
    {
      "cell_type": "code",
      "execution_count": null,
      "metadata": {
        "id": "kMCuMIA_LSO9"
      },
      "outputs": [],
      "source": [
        "# Import the required packages\n",
        "from keras.models import Sequential\n",
        "from keras.layers import Dense\n",
        "from keras.datasets import mnist\n",
        "from keras.utils import to_categorical\n",
        "import numpy as np\n",
        "import pandas as pd\n",
        "from matplotlib import pyplot as plt\n",
        "import pandas as pd\n",
        "import numpy as np\n",
        "\n",
        "import matplotlib.pyplot as plt\n",
        "import seaborn as sns\n",
        "\n",
        "from sklearn.model_selection import train_test_split\n",
        "from sklearn.metrics import confusion_matrix\n",
        "\n",
        "import keras\n",
        "from keras.models import Sequential\n",
        "from keras.layers import Conv2D, Lambda, MaxPooling2D, Conv1D, MaxPooling1D # convolution layers\n",
        "from keras.layers import Dense, Dropout, Flatten # core layers\n",
        "\n",
        "from keras.utils import to_categorical\n",
        "\n",
        "from __future__ import print_function\n",
        "import datetime\n",
        "import keras\n",
        "from keras.datasets import mnist\n",
        "from keras.models import load_model\n",
        "from keras.models import Sequential\n",
        "from keras.layers import Dense, Dropout, Activation, Flatten\n",
        "from keras.layers import Conv2D, MaxPooling2D\n",
        "from keras import backend as K\n",
        "import numpy as np\n",
        "import matplotlib.pyplot as plt\n",
        "import cv2\n",
        "from PIL import Image\n",
        "from keras.models import Model\n",
        "from keras import backend as K\n",
        "import os\n",
        "from skimage.io import imsave"
      ]
    },
    {
      "cell_type": "markdown",
      "metadata": {
        "id": "PC7tziQbLSPE"
      },
      "source": [
        "# Get the training data"
      ]
    },
    {
      "cell_type": "code",
      "execution_count": null,
      "metadata": {
        "colab": {
          "base_uri": "https://localhost:8080/"
        },
        "id": "4WkdwJRRBI0I",
        "outputId": "cab58ae5-7232-44f3-841e-51ec1de93666"
      },
      "outputs": [
        {
          "output_type": "stream",
          "name": "stdout",
          "text": [
            "Training data shape :  (60000, 28, 28) (60000,)\n",
            "Testing data shape :  (10000, 28, 28) (10000,)\n"
          ]
        }
      ],
      "source": [
        "# Get the training data\n",
        "(train_images, train_labels), (test_images, test_labels) = mnist.load_data()\n",
        "print('Training data shape : ', train_images.shape, train_labels.shape)\n",
        "\n",
        "print('Testing data shape : ', test_images.shape, test_labels.shape)"
      ]
    },
    {
      "cell_type": "code",
      "execution_count": null,
      "metadata": {
        "colab": {
          "base_uri": "https://localhost:8080/"
        },
        "id": "FWR7AxNeWF7n",
        "outputId": "39cac86a-44d6-4c5a-f553-c5898a2e4e5a"
      },
      "outputs": [
        {
          "output_type": "stream",
          "name": "stdout",
          "text": [
            "Unique output classes :  [0 1 2 3 4 5 6 7 8 9]\n",
            "Total number of outputs :  10\n"
          ]
        }
      ],
      "source": [
        "# Find the unique numbers from the train labels\n",
        "classes = np.unique(train_labels)\n",
        "classes_num = len(classes)\n",
        "print('Unique output classes : ', classes)\n",
        "print('Total number of outputs : ', classes_num)"
      ]
    },
    {
      "cell_type": "code",
      "execution_count": null,
      "metadata": {
        "colab": {
          "base_uri": "https://localhost:8080/",
          "height": 435
        },
        "id": "j72C_HgeWbSw",
        "outputId": "1dcc8c50-7f12-4d52-b017-e6e0d6171183"
      },
      "outputs": [
        {
          "output_type": "display_data",
          "data": {
            "text/plain": [
              "<Figure size 1000x500 with 2 Axes>"
            ],
            "image/png": "[encoded data removed]"
          },
          "metadata": {}
        }
      ],
      "source": [
        "# let's see some sample images in the dataset\n",
        "\n",
        "# Define the plot size\n",
        "plt.figure(figsize=[10,5])\n",
        "\n",
        "# Display the first image in training data\n",
        "plt.subplot(121)\n",
        "plt.imshow(train_images[0,:,:], cmap='gray')\n",
        "plt.title(\"Ground Truth : {}\".format(train_labels[0]))\n",
        "\n",
        "# Display the first image in testing data\n",
        "plt.subplot(122)\n",
        "plt.imshow(test_images[0,:,:], cmap='gray')\n",
        "plt.title(\"Ground Truth : {}\".format(test_labels[0]))\n",
        "plt.show()"
      ]
    },
    {
      "cell_type": "markdown",
      "source": [
        "### Alternative: Use seaborn or OpenCV for visualization"
      ],
      "metadata": {
        "id": "PHsKuLzjXXNK"
      }
    },
    {
      "cell_type": "code",
      "execution_count": null,
      "metadata": {
        "colab": {
          "base_uri": "https://localhost:8080/"
        },
        "id": "hG9RPcn2LSPJ",
        "outputId": "8d0f1498-7116-432c-92a9-2fa88e7b84a7"
      },
      "outputs": [
        {
          "output_type": "stream",
          "name": "stdout",
          "text": [
            "(60000, 28, 28)\n"
          ]
        }
      ],
      "source": [
        "# Change the image format from 2D array of size 28x28 to 1D arrya of size 784\n",
        "print(train_images.shape)"
      ]
    },
    {
      "cell_type": "code",
      "execution_count": null,
      "metadata": {
        "id": "MDbDn7A4Ystx"
      },
      "outputs": [],
      "source": [
        "# Now reshape the 2D array to 3D array (#samples, height, width, channel)\n",
        "\n",
        "train_data = train_images.reshape(train_images.shape[0], train_images.shape[1], train_images.shape[2], 1)\n",
        "test_data = test_images.reshape(test_images.shape[0], test_images.shape[1], test_images.shape[2], 1)"
      ]
    },
    {
      "cell_type": "code",
      "execution_count": null,
      "metadata": {
        "id": "qgoQAWR_LSPN"
      },
      "outputs": [],
      "source": [
        "# Change to float datatype\n",
        "\n",
        "train_data = train_data.astype('float32')\n",
        "test_data = test_data.astype('float32')"
      ]
    },
    {
      "cell_type": "code",
      "execution_count": null,
      "metadata": {
        "colab": {
          "base_uri": "https://localhost:8080/"
        },
        "id": "DHigwYUZLSPQ",
        "outputId": "70c41049-300e-45ad-984a-d10502ac8998"
      },
      "outputs": [
        {
          "output_type": "stream",
          "name": "stdout",
          "text": [
            "[[0. 0. 0. 0. 0. 0. 0. 1. 0. 0.]\n",
            " [0. 0. 1. 0. 0. 0. 0. 0. 0. 0.]\n",
            " [0. 1. 0. 0. 0. 0. 0. 0. 0. 0.]\n",
            " [1. 0. 0. 0. 0. 0. 0. 0. 0. 0.]\n",
            " [0. 0. 0. 0. 1. 0. 0. 0. 0. 0.]\n",
            " [0. 1. 0. 0. 0. 0. 0. 0. 0. 0.]\n",
            " [0. 0. 0. 0. 1. 0. 0. 0. 0. 0.]\n",
            " [0. 0. 0. 0. 0. 0. 0. 0. 0. 1.]\n",
            " [0. 0. 0. 0. 0. 1. 0. 0. 0. 0.]\n",
            " [0. 0. 0. 0. 0. 0. 0. 0. 0. 1.]]\n"
          ]
        }
      ],
      "source": [
        "# Change the labels from integer to categorical data\n",
        "\n",
        "train_labels_one_hot = to_categorical(train_labels)\n",
        "test_labels_one_hot = to_categorical(test_labels)\n",
        "\n",
        "# Check how the one hot encoded labels look like\n",
        "print(test_labels_one_hot[0:10])"
      ]
    },
    {
      "cell_type": "code",
      "source": [
        "# Define Model using Functional API\n",
        "\n",
        "from keras.layers import Input\n",
        "# Define the input\n",
        "inputs = Input(shape=(28, 28, 1))\n",
        "\n",
        "# Add layers\n",
        "x = Conv2D(filters=4, kernel_size=(3, 3), activation=\"relu\")(inputs)\n",
        "x = Conv2D(filters=4, kernel_size=(3, 3), activation=\"relu\", name='conv2d_1')(x)\n",
        "x = MaxPooling2D(pool_size=(2, 2))(x)\n",
        "x = Flatten()(x)\n",
        "x = Dense(128, activation=\"relu\")(x)\n",
        "outputs = Dense(classes_num, activation=\"softmax\")(x)\n",
        "\n",
        "# Create the model\n",
        "model = Model(inputs=inputs, outputs=outputs)\n",
        "\n",
        "model.compile(loss=\"categorical_crossentropy\", optimizer=\"adam\", metrics=[\"accuracy\"])\n"
      ],
      "metadata": {
        "id": "OFtcJUJ4ecQ7"
      },
      "execution_count": null,
      "outputs": []
    },
    {
      "cell_type": "code",
      "execution_count": null,
      "metadata": {
        "colab": {
          "base_uri": "https://localhost:8080/",
          "height": 353
        },
        "id": "zF4K8jetaKnC",
        "outputId": "e1e5f601-ba10-4327-cc03-313069c9bc07"
      },
      "outputs": [
        {
          "output_type": "display_data",
          "data": {
            "text/plain": [
              "\u001b[1mModel: \"functional\"\u001b[0m\n"
            ],
            "text/html": [
              "<pre style=\"white-space:pre;overflow-x:auto;line-height:normal;font-family:Menlo,'DejaVu Sans Mono',consolas,'Courier New',monospace\"><span style=\"font-weight: bold\">Model: \"functional\"</span>\n",
              "</pre>\n"
            ]
          },
          "metadata": {}
        },
        {
          "output_type": "display_data",
          "data": {
            "text/plain": [
              "┏━━━━━━━━━━━━━━━━━━━━━━━━━━━━━━━━━┳━━━━━━━━━━━━━━━━━━━━━━━━┳━━━━━━━━━━━━━━━┓\n",
              "┃\u001b[1m \u001b[0m\u001b[1mLayer (type)                   \u001b[0m\u001b[1m \u001b[0m┃\u001b[1m \u001b[0m\u001b[1mOutput Shape          \u001b[0m\u001b[1m \u001b[0m┃\u001b[1m \u001b[0m\u001b[1m      Param #\u001b[0m\u001b[1m \u001b[0m┃\n",
              "┡━━━━━━━━━━━━━━━━━━━━━━━━━━━━━━━━━╇━━━━━━━━━━━━━━━━━━━━━━━━╇━━━━━━━━━━━━━━━┩\n",
              "│ input_layer (\u001b[38;5;33mInputLayer\u001b[0m)        │ (\u001b[38;5;45mNone\u001b[0m, \u001b[38;5;34m28\u001b[0m, \u001b[38;5;34m28\u001b[0m, \u001b[38;5;34m1\u001b[0m)      │             \u001b[38;5;34m0\u001b[0m │\n",
              "├─────────────────────────────────┼────────────────────────┼───────────────┤\n",
              "│ conv2d (\u001b[38;5;33mConv2D\u001b[0m)                 │ (\u001b[38;5;45mNone\u001b[0m, \u001b[38;5;34m26\u001b[0m, \u001b[38;5;34m26\u001b[0m, \u001b[38;5;34m4\u001b[0m)      │            \u001b[38;5;34m40\u001b[0m │\n",
              "├─────────────────────────────────┼────────────────────────┼───────────────┤\n",
              "│ conv2d_1 (\u001b[38;5;33mConv2D\u001b[0m)               │ (\u001b[38;5;45mNone\u001b[0m, \u001b[38;5;34m24\u001b[0m, \u001b[38;5;34m24\u001b[0m, \u001b[38;5;34m4\u001b[0m)      │           \u001b[38;5;34m148\u001b[0m │\n",
              "├─────────────────────────────────┼────────────────────────┼───────────────┤\n",
              "│ max_pooling2d (\u001b[38;5;33mMaxPooling2D\u001b[0m)    │ (\u001b[38;5;45mNone\u001b[0m, \u001b[38;5;34m12\u001b[0m, \u001b[38;5;34m12\u001b[0m, \u001b[38;5;34m4\u001b[0m)      │             \u001b[38;5;34m0\u001b[0m │\n",
              "├─────────────────────────────────┼────────────────────────┼───────────────┤\n",
              "│ flatten (\u001b[38;5;33mFlatten\u001b[0m)               │ (\u001b[38;5;45mNone\u001b[0m, \u001b[38;5;34m576\u001b[0m)            │             \u001b[38;5;34m0\u001b[0m │\n",
              "├─────────────────────────────────┼────────────────────────┼───────────────┤\n",
              "│ dense (\u001b[38;5;33mDense\u001b[0m)                   │ (\u001b[38;5;45mNone\u001b[0m, \u001b[38;5;34m128\u001b[0m)            │        \u001b[38;5;34m73,856\u001b[0m │\n",
              "├─────────────────────────────────┼────────────────────────┼───────────────┤\n",
              "│ dense_1 (\u001b[38;5;33mDense\u001b[0m)                 │ (\u001b[38;5;45mNone\u001b[0m, \u001b[38;5;34m10\u001b[0m)             │         \u001b[38;5;34m1,290\u001b[0m │\n",
              "└─────────────────────────────────┴────────────────────────┴───────────────┘\n"
            ],
            "text/html": [
              "<pre style=\"white-space:pre;overflow-x:auto;line-height:normal;font-family:Menlo,'DejaVu Sans Mono',consolas,'Courier New',monospace\">┏━━━━━━━━━━━━━━━━━━━━━━━━━━━━━━━━━┳━━━━━━━━━━━━━━━━━━━━━━━━┳━━━━━━━━━━━━━━━┓\n",
              "┃<span style=\"font-weight: bold\"> Layer (type)                    </span>┃<span style=\"font-weight: bold\"> Output Shape           </span>┃<span style=\"font-weight: bold\">       Param # </span>┃\n",
              "┡━━━━━━━━━━━━━━━━━━━━━━━━━━━━━━━━━╇━━━━━━━━━━━━━━━━━━━━━━━━╇━━━━━━━━━━━━━━━┩\n",
              "│ input_layer (<span style=\"color: #0087ff; text-decoration-color: #0087ff\">InputLayer</span>)        │ (<span style=\"color: #00d7ff; text-decoration-color: #00d7ff\">None</span>, <span style=\"color: #00af00; text-decoration-color: #00af00\">28</span>, <span style=\"color: #00af00; text-decoration-color: #00af00\">28</span>, <span style=\"color: #00af00; text-decoration-color: #00af00\">1</span>)      │             <span style=\"color: #00af00; text-decoration-color: #00af00\">0</span> │\n",
              "├─────────────────────────────────┼────────────────────────┼───────────────┤\n",
              "│ conv2d (<span style=\"color: #0087ff; text-decoration-color: #0087ff\">Conv2D</span>)                 │ (<span style=\"color: #00d7ff; text-decoration-color: #00d7ff\">None</span>, <span style=\"color: #00af00; text-decoration-color: #00af00\">26</span>, <span style=\"color: #00af00; text-decoration-color: #00af00\">26</span>, <span style=\"color: #00af00; text-decoration-color: #00af00\">4</span>)      │            <span style=\"color: #00af00; text-decoration-color: #00af00\">40</span> │\n",
              "├─────────────────────────────────┼────────────────────────┼───────────────┤\n",
              "│ conv2d_1 (<span style=\"color: #0087ff; text-decoration-color: #0087ff\">Conv2D</span>)               │ (<span style=\"color: #00d7ff; text-decoration-color: #00d7ff\">None</span>, <span style=\"color: #00af00; text-decoration-color: #00af00\">24</span>, <span style=\"color: #00af00; text-decoration-color: #00af00\">24</span>, <span style=\"color: #00af00; text-decoration-color: #00af00\">4</span>)      │           <span style=\"color: #00af00; text-decoration-color: #00af00\">148</span> │\n",
              "├─────────────────────────────────┼────────────────────────┼───────────────┤\n",
              "│ max_pooling2d (<span style=\"color: #0087ff; text-decoration-color: #0087ff\">MaxPooling2D</span>)    │ (<span style=\"color: #00d7ff; text-decoration-color: #00d7ff\">None</span>, <span style=\"color: #00af00; text-decoration-color: #00af00\">12</span>, <span style=\"color: #00af00; text-decoration-color: #00af00\">12</span>, <span style=\"color: #00af00; text-decoration-color: #00af00\">4</span>)      │             <span style=\"color: #00af00; text-decoration-color: #00af00\">0</span> │\n",
              "├─────────────────────────────────┼────────────────────────┼───────────────┤\n",
              "│ flatten (<span style=\"color: #0087ff; text-decoration-color: #0087ff\">Flatten</span>)               │ (<span style=\"color: #00d7ff; text-decoration-color: #00d7ff\">None</span>, <span style=\"color: #00af00; text-decoration-color: #00af00\">576</span>)            │             <span style=\"color: #00af00; text-decoration-color: #00af00\">0</span> │\n",
              "├─────────────────────────────────┼────────────────────────┼───────────────┤\n",
              "│ dense (<span style=\"color: #0087ff; text-decoration-color: #0087ff\">Dense</span>)                   │ (<span style=\"color: #00d7ff; text-decoration-color: #00d7ff\">None</span>, <span style=\"color: #00af00; text-decoration-color: #00af00\">128</span>)            │        <span style=\"color: #00af00; text-decoration-color: #00af00\">73,856</span> │\n",
              "├─────────────────────────────────┼────────────────────────┼───────────────┤\n",
              "│ dense_1 (<span style=\"color: #0087ff; text-decoration-color: #0087ff\">Dense</span>)                 │ (<span style=\"color: #00d7ff; text-decoration-color: #00d7ff\">None</span>, <span style=\"color: #00af00; text-decoration-color: #00af00\">10</span>)             │         <span style=\"color: #00af00; text-decoration-color: #00af00\">1,290</span> │\n",
              "└─────────────────────────────────┴────────────────────────┴───────────────┘\n",
              "</pre>\n"
            ]
          },
          "metadata": {}
        },
        {
          "output_type": "display_data",
          "data": {
            "text/plain": [
              "\u001b[1m Total params: \u001b[0m\u001b[38;5;34m75,334\u001b[0m (294.27 KB)\n"
            ],
            "text/html": [
              "<pre style=\"white-space:pre;overflow-x:auto;line-height:normal;font-family:Menlo,'DejaVu Sans Mono',consolas,'Courier New',monospace\"><span style=\"font-weight: bold\"> Total params: </span><span style=\"color: #00af00; text-decoration-color: #00af00\">75,334</span> (294.27 KB)\n",
              "</pre>\n"
            ]
          },
          "metadata": {}
        },
        {
          "output_type": "display_data",
          "data": {
            "text/plain": [
              "\u001b[1m Trainable params: \u001b[0m\u001b[38;5;34m75,334\u001b[0m (294.27 KB)\n"
            ],
            "text/html": [
              "<pre style=\"white-space:pre;overflow-x:auto;line-height:normal;font-family:Menlo,'DejaVu Sans Mono',consolas,'Courier New',monospace\"><span style=\"font-weight: bold\"> Trainable params: </span><span style=\"color: #00af00; text-decoration-color: #00af00\">75,334</span> (294.27 KB)\n",
              "</pre>\n"
            ]
          },
          "metadata": {}
        },
        {
          "output_type": "display_data",
          "data": {
            "text/plain": [
              "\u001b[1m Non-trainable params: \u001b[0m\u001b[38;5;34m0\u001b[0m (0.00 B)\n"
            ],
            "text/html": [
              "<pre style=\"white-space:pre;overflow-x:auto;line-height:normal;font-family:Menlo,'DejaVu Sans Mono',consolas,'Courier New',monospace\"><span style=\"font-weight: bold\"> Non-trainable params: </span><span style=\"color: #00af00; text-decoration-color: #00af00\">0</span> (0.00 B)\n",
              "</pre>\n"
            ]
          },
          "metadata": {}
        }
      ],
      "source": [
        "# Let's see how the model looks and check the parameters\n",
        "\n",
        "model.summary()"
      ]
    },
    {
      "cell_type": "markdown",
      "metadata": {
        "id": "e85SnQtGLSPX"
      },
      "source": [
        "## Train the model"
      ]
    },
    {
      "cell_type": "code",
      "execution_count": null,
      "metadata": {
        "colab": {
          "base_uri": "https://localhost:8080/"
        },
        "id": "-3TYv_D1LSPY",
        "outputId": "45a3c745-0cef-4b72-85e4-9e89d185b0ce"
      },
      "outputs": [
        {
          "output_type": "stream",
          "name": "stdout",
          "text": [
            "Epoch 1/10\n",
            "\u001b[1m1875/1875\u001b[0m \u001b[32m━━━━━━━━━━━━━━━━━━━━\u001b[0m\u001b[37m\u001b[0m \u001b[1m9s\u001b[0m 3ms/step - accuracy: 0.8595 - loss: 2.0790 - val_accuracy: 0.9624 - val_loss: 0.1206\n",
            "Epoch 2/10\n",
            "\u001b[1m1875/1875\u001b[0m \u001b[32m━━━━━━━━━━━━━━━━━━━━\u001b[0m\u001b[37m\u001b[0m \u001b[1m9s\u001b[0m 4ms/step - accuracy: 0.9693 - loss: 0.0998 - val_accuracy: 0.9713 - val_loss: 0.0924\n",
            "Epoch 3/10\n",
            "\u001b[1m1875/1875\u001b[0m \u001b[32m━━━━━━━━━━━━━━━━━━━━\u001b[0m\u001b[37m\u001b[0m \u001b[1m8s\u001b[0m 3ms/step - accuracy: 0.9787 - loss: 0.0666 - val_accuracy: 0.9759 - val_loss: 0.0760\n",
            "Epoch 4/10\n",
            "\u001b[1m1875/1875\u001b[0m \u001b[32m━━━━━━━━━━━━━━━━━━━━\u001b[0m\u001b[37m\u001b[0m \u001b[1m6s\u001b[0m 3ms/step - accuracy: 0.9844 - loss: 0.0499 - val_accuracy: 0.9771 - val_loss: 0.0753\n",
            "Epoch 5/10\n",
            "\u001b[1m1875/1875\u001b[0m \u001b[32m━━━━━━━━━━━━━━━━━━━━\u001b[0m\u001b[37m\u001b[0m \u001b[1m10s\u001b[0m 3ms/step - accuracy: 0.9868 - loss: 0.0396 - val_accuracy: 0.9785 - val_loss: 0.0752\n",
            "Epoch 6/10\n",
            "\u001b[1m1875/1875\u001b[0m \u001b[32m━━━━━━━━━━━━━━━━━━━━\u001b[0m\u001b[37m\u001b[0m \u001b[1m11s\u001b[0m 3ms/step - accuracy: 0.9904 - loss: 0.0287 - val_accuracy: 0.9767 - val_loss: 0.0748\n",
            "Epoch 7/10\n",
            "\u001b[1m1875/1875\u001b[0m \u001b[32m━━━━━━━━━━━━━━━━━━━━\u001b[0m\u001b[37m\u001b[0m \u001b[1m9s\u001b[0m 3ms/step - accuracy: 0.9911 - loss: 0.0259 - val_accuracy: 0.9810 - val_loss: 0.0725\n",
            "Epoch 8/10\n",
            "\u001b[1m1875/1875\u001b[0m \u001b[32m━━━━━━━━━━━━━━━━━━━━\u001b[0m\u001b[37m\u001b[0m \u001b[1m11s\u001b[0m 3ms/step - accuracy: 0.9936 - loss: 0.0200 - val_accuracy: 0.9807 - val_loss: 0.0801\n",
            "Epoch 9/10\n",
            "\u001b[1m1875/1875\u001b[0m \u001b[32m━━━━━━━━━━━━━━━━━━━━\u001b[0m\u001b[37m\u001b[0m \u001b[1m7s\u001b[0m 3ms/step - accuracy: 0.9942 - loss: 0.0190 - val_accuracy: 0.9799 - val_loss: 0.0722\n",
            "Epoch 10/10\n",
            "\u001b[1m1875/1875\u001b[0m \u001b[32m━━━━━━━━━━━━━━━━━━━━\u001b[0m\u001b[37m\u001b[0m \u001b[1m10s\u001b[0m 3ms/step - accuracy: 0.9949 - loss: 0.0166 - val_accuracy: 0.9765 - val_loss: 0.1016\n"
          ]
        }
      ],
      "source": [
        "# Now we can start the training\n",
        "\n",
        "history = model.fit(train_data, train_labels_one_hot, batch_size=32, epochs=10, verbose =1,\n",
        "                   validation_data=(test_data, test_labels_one_hot))"
      ]
    },
    {
      "cell_type": "markdown",
      "metadata": {
        "id": "9awll0y2LSPb"
      },
      "source": [
        "## Evaluate the model"
      ]
    },
    {
      "cell_type": "code",
      "execution_count": null,
      "metadata": {
        "colab": {
          "base_uri": "https://localhost:8080/"
        },
        "id": "ABN8tjPjLSPb",
        "outputId": "314c1fa4-e78d-4607-aafd-ab52eccdcf39"
      },
      "outputs": [
        {
          "output_type": "stream",
          "name": "stdout",
          "text": [
            "\u001b[1m313/313\u001b[0m \u001b[32m━━━━━━━━━━━━━━━━━━━━\u001b[0m\u001b[37m\u001b[0m \u001b[1m1s\u001b[0m 3ms/step - accuracy: 0.9722 - loss: 0.1303\n",
            "Evaluation result on Test Data : Loss = 0.10159455239772797, accuracy = 0.9764999747276306\n"
          ]
        }
      ],
      "source": [
        "# let's run the trained model on test data and see how it performs\n",
        "\n",
        "[test_loss, test_acc] = model.evaluate(test_data, test_labels_one_hot)\n",
        "print(\"Evaluation result on Test Data : Loss = {}, accuracy = {}\".format(test_loss, test_acc))"
      ]
    },
    {
      "cell_type": "markdown",
      "metadata": {
        "id": "R_OZs-xSLSPe"
      },
      "source": [
        "## Run the sample predictions"
      ]
    },
    {
      "cell_type": "code",
      "execution_count": null,
      "metadata": {
        "colab": {
          "base_uri": "https://localhost:8080/",
          "height": 539
        },
        "id": "10ANGLlqLSPe",
        "outputId": "bed0eef3-036a-4af9-b8b0-3fd97cc6f8e2"
      },
      "outputs": [
        {
          "output_type": "stream",
          "name": "stdout",
          "text": [
            "\u001b[1m1/1\u001b[0m \u001b[32m━━━━━━━━━━━━━━━━━━━━\u001b[0m\u001b[37m\u001b[0m \u001b[1m0s\u001b[0m 357ms/step\n",
            "Probability of all the classes: [[2.5494614e-16 1.9072936e-11 1.0000000e+00 4.0170690e-15 3.7561655e-15\n",
            "  8.4836446e-18 5.4507187e-11 3.8573021e-15 6.2213312e-15 1.2895857e-17]]\n",
            "\u001b[1m1/1\u001b[0m \u001b[32m━━━━━━━━━━━━━━━━━━━━\u001b[0m\u001b[37m\u001b[0m \u001b[1m0s\u001b[0m 29ms/step\n",
            "Model prediction: 2\n"
          ]
        },
        {
          "output_type": "display_data",
          "data": {
            "text/plain": [
              "<Figure size 640x480 with 1 Axes>"
            ],
            "image/png": "[encoded data removed]"
          },
          "metadata": {}
        }
      ],
      "source": [
        "# Predict the most likely class\n",
        "\n",
        "print(\"Probability of all the classes: {}\".format(model.predict(test_data[[1],:])))\n",
        "\n",
        "print(\"Model prediction: {}\".format(np.argmax(model.predict(test_data[[1],:])),axis=1))\n",
        "\n",
        "# Display the predicted image\n",
        "plt.imshow(test_images[1], cmap='gray')\n",
        "plt.title(\"Ground Truth : {}\".format(test_labels[1]))\n",
        "plt.show()"
      ]
    },
    {
      "cell_type": "code",
      "execution_count": null,
      "metadata": {
        "colab": {
          "base_uri": "https://localhost:8080/",
          "height": 556
        },
        "id": "eEz9ii7Cc6U1",
        "outputId": "b243d41d-81d3-4448-8a17-2fae0072140e"
      },
      "outputs": [
        {
          "output_type": "stream",
          "name": "stdout",
          "text": [
            "\u001b[1m1/1\u001b[0m \u001b[32m━━━━━━━━━━━━━━━━━━━━\u001b[0m\u001b[37m\u001b[0m \u001b[1m0s\u001b[0m 28ms/step\n",
            "Probability of all the classes: [[1.24433168e-17 1.03594175e-04 8.00269097e-02 2.54711886e-05\n",
            "  3.28969470e-14 4.35568985e-16 2.31688366e-16 9.19844031e-01\n",
            "  1.48792095e-14 7.46440737e-14]]\n",
            "\u001b[1m1/1\u001b[0m \u001b[32m━━━━━━━━━━━━━━━━━━━━\u001b[0m\u001b[37m\u001b[0m \u001b[1m0s\u001b[0m 30ms/step\n",
            "Model prediction: 7\n"
          ]
        },
        {
          "output_type": "display_data",
          "data": {
            "text/plain": [
              "<Figure size 640x480 with 1 Axes>"
            ],
            "image/png": "[encoded data removed]"
          },
          "metadata": {}
        }
      ],
      "source": [
        "# Predict the most likely class\n",
        "\n",
        "print(\"Probability of all the classes: {}\".format(model.predict(test_data[[9009]])))\n",
        "\n",
        "print(\"Model prediction: {}\".format(np.argmax(model.predict(test_data[[9009]])),axis=1))\n",
        "\n",
        "# Display the predicted image\n",
        "plt.imshow(test_images[9009], cmap='gray')\n",
        "plt.title(\"Ground Truth : {}\".format(test_labels[9009]))\n",
        "plt.show()"
      ]
    },
    {
      "cell_type": "code",
      "execution_count": null,
      "metadata": {
        "colab": {
          "base_uri": "https://localhost:8080/",
          "height": 572
        },
        "id": "0La8YCmvLSPh",
        "outputId": "deed5005-12d1-475b-8eae-ceff4f546e80"
      },
      "outputs": [
        {
          "output_type": "display_data",
          "data": {
            "text/plain": [
              "<Figure size 800x600 with 1 Axes>"
            ],
            "image/png": "[encoded data removed]"
          },
          "metadata": {}
        }
      ],
      "source": [
        "# Let us observe the training over the epochs\n",
        "\n",
        "#Plot the Loss Curves\n",
        "plt.figure(figsize=[8,6])\n",
        "plt.plot(history.history['loss'],'r',linewidth=3.0)\n",
        "plt.plot(history.history['val_loss'],'b',linewidth=3.0)\n",
        "plt.legend(['Training loss', 'Validation Loss'],fontsize=18)\n",
        "plt.xlabel('Epochs ',fontsize=16)\n",
        "plt.ylabel('Loss',fontsize=16)\n",
        "plt.title('Loss Curves',fontsize=16)\n",
        "plt.show()"
      ]
    },
    {
      "cell_type": "code",
      "execution_count": null,
      "metadata": {
        "colab": {
          "base_uri": "https://localhost:8080/",
          "height": 572
        },
        "id": "jAQrM5jmeUn8",
        "outputId": "c7befbcc-4848-4fc0-ba5f-366861fc4fe9"
      },
      "outputs": [
        {
          "output_type": "display_data",
          "data": {
            "text/plain": [
              "<Figure size 800x600 with 1 Axes>"
            ],
            "image/png": "[encoded data removed]"
          },
          "metadata": {}
        }
      ],
      "source": [
        "\n",
        "#Plot the Accuracy Curves\n",
        "\n",
        "plt.figure(figsize=[8,6])\n",
        "plt.plot(history.history['accuracy'],'r',linewidth=3.0)\n",
        "plt.plot(history.history['val_accuracy'],'b',linewidth=3.0)\n",
        "plt.legend(['Training Accuracy', 'Validation Accuracy'],fontsize=18)\n",
        "plt.xlabel('Epochs ',fontsize=16)\n",
        "plt.ylabel('Accuracy',fontsize=16)\n",
        "plt.title('Accuracy Curves',fontsize=16)\n",
        "plt.show()"
      ]
    },
    {
      "cell_type": "markdown",
      "source": [
        "### Confusion Matrix"
      ],
      "metadata": {
        "id": "8ChPcoMsVk_a"
      }
    },
    {
      "cell_type": "code",
      "execution_count": null,
      "metadata": {
        "id": "uO2u8MocLSPj"
      },
      "outputs": [],
      "source": [
        "DIGITS = {\n",
        "    0: '0',\n",
        "    1: '1',\n",
        "    2: '2',\n",
        "    3: '3',\n",
        "    4: '4',\n",
        "    5: '5',\n",
        "    6: '6',\n",
        "    7: '7',\n",
        "    8: '8',\n",
        "    9: '9',\n",
        "}"
      ]
    },
    {
      "cell_type": "code",
      "execution_count": null,
      "metadata": {
        "id": "BEQiWfPOkApZ"
      },
      "outputs": [],
      "source": [
        "def confusion_matrix(Y_true, Y_pred):\n",
        "    Y_true = pd.Series([DIGITS[y] for y in np.argmax(Y_true, axis=1)])\n",
        "    Y_pred = pd.Series([DIGITS[y] for y in np.argmax(Y_pred, axis=1)])\n",
        "\n",
        "    return pd.crosstab(Y_true, Y_pred, rownames=['True'], colnames=['Pred'])"
      ]
    },
    {
      "cell_type": "code",
      "execution_count": null,
      "metadata": {
        "colab": {
          "base_uri": "https://localhost:8080/"
        },
        "id": "b1jCXY7zkKJ5",
        "outputId": "320bb28e-302d-4070-d9d2-3d601aa7231d"
      },
      "outputs": [
        {
          "output_type": "stream",
          "name": "stdout",
          "text": [
            "\u001b[1m313/313\u001b[0m \u001b[32m━━━━━━━━━━━━━━━━━━━━\u001b[0m\u001b[37m\u001b[0m \u001b[1m1s\u001b[0m 2ms/step\n",
            "Pred    0     1     2    3    4    5    6     7    8    9\n",
            "True                                                     \n",
            "0     960     2     2    0    0    8    6     1    1    0\n",
            "1       0  1125     1    0    1    1    4     1    2    0\n",
            "2       2     2  1023    0    0    1    0     2    2    0\n",
            "3       1     0     3  960    0   37    0     2    5    2\n",
            "4       0     0     2    0  962    0    3     2    2   11\n",
            "5       0     0     2    1    0  884    2     0    2    1\n",
            "6       6     2     1    0    2   13  932     1    1    0\n",
            "7       0     2    12    0    1    1    0  1002    1    9\n",
            "8       3     1     6    1    0   10    0     3  942    8\n",
            "9       0     3     0    0   12    7    0     4    8  975\n"
          ]
        }
      ],
      "source": [
        "print(confusion_matrix(test_labels_one_hot, model.predict(test_data)))"
      ]
    },
    {
      "cell_type": "markdown",
      "source": [
        "## Classification report"
      ],
      "metadata": {
        "id": "iPcRj5rjVyYV"
      }
    },
    {
      "cell_type": "code",
      "source": [
        "from sklearn.metrics import accuracy_score, classification_report"
      ],
      "metadata": {
        "id": "QEh5RrQbVxt-"
      },
      "execution_count": null,
      "outputs": []
    },
    {
      "cell_type": "code",
      "source": [
        "\n",
        "y_true = np.argmax(test_labels_one_hot, axis=1)\n",
        "y_pred = np.argmax(model.predict(test_data), axis=1)"
      ],
      "metadata": {
        "colab": {
          "base_uri": "https://localhost:8080/"
        },
        "id": "huHrENfAWrrm",
        "outputId": "836090ac-ba0d-4d7a-a1cb-ffd757b253e7"
      },
      "execution_count": null,
      "outputs": [
        {
          "output_type": "stream",
          "name": "stdout",
          "text": [
            "\u001b[1m313/313\u001b[0m \u001b[32m━━━━━━━━━━━━━━━━━━━━\u001b[0m\u001b[37m\u001b[0m \u001b[1m0s\u001b[0m 1ms/step\n"
          ]
        }
      ]
    },
    {
      "cell_type": "code",
      "source": [
        "report = classification_report(y_true, y_pred,digits=4)"
      ],
      "metadata": {
        "id": "TIsBOwcqWIAU"
      },
      "execution_count": null,
      "outputs": []
    },
    {
      "cell_type": "code",
      "source": [
        "print(report)"
      ],
      "metadata": {
        "colab": {
          "base_uri": "https://localhost:8080/"
        },
        "id": "LAVe-4N9W3V4",
        "outputId": "9627aa8d-2254-4c30-acef-45718a44db44"
      },
      "execution_count": null,
      "outputs": [
        {
          "output_type": "stream",
          "name": "stdout",
          "text": [
            "              precision    recall  f1-score   support\n",
            "\n",
            "           0     0.9877    0.9796    0.9836       980\n",
            "           1     0.9894    0.9912    0.9903      1135\n",
            "           2     0.9724    0.9913    0.9818      1032\n",
            "           3     0.9979    0.9505    0.9736      1010\n",
            "           4     0.9836    0.9796    0.9816       982\n",
            "           5     0.9189    0.9910    0.9536       892\n",
            "           6     0.9842    0.9729    0.9785       958\n",
            "           7     0.9843    0.9747    0.9795      1028\n",
            "           8     0.9752    0.9671    0.9711       974\n",
            "           9     0.9692    0.9663    0.9677      1009\n",
            "\n",
            "    accuracy                         0.9765     10000\n",
            "   macro avg     0.9763    0.9764    0.9761     10000\n",
            "weighted avg     0.9770    0.9765    0.9766     10000\n",
            "\n"
          ]
        }
      ]
    },
    {
      "cell_type": "code",
      "source": [
        "print(accuracy_score(y_true, y_pred))"
      ],
      "metadata": {
        "colab": {
          "base_uri": "https://localhost:8080/"
        },
        "id": "hpt-EqTYW4-T",
        "outputId": "37ce81fa-5ebd-46cb-a9ad-bec28d291f94"
      },
      "execution_count": null,
      "outputs": [
        {
          "output_type": "stream",
          "name": "stdout",
          "text": [
            "0.9765\n"
          ]
        }
      ]
    },
    {
      "cell_type": "markdown",
      "source": [
        "### Save the model"
      ],
      "metadata": {
        "id": "egfVtJq7TnCF"
      }
    },
    {
      "cell_type": "code",
      "source": [
        "model.save(\"2DCNN_MNIST.h5\")"
      ],
      "metadata": {
        "id": "Fqbw_UjNXDSi",
        "colab": {
          "base_uri": "https://localhost:8080/"
        },
        "outputId": "70c1dbad-b7f7-4601-a70a-9cbbcf70c92f"
      },
      "execution_count": null,
      "outputs": [
        {
          "output_type": "stream",
          "name": "stderr",
          "text": [
            "WARNING:absl:You are saving your model as an HDF5 file via `model.save()` or `keras.saving.save_model(model)`. This file format is considered legacy. We recommend using instead the native Keras format, e.g. `model.save('my_model.keras')` or `keras.saving.save_model(model, 'my_model.keras')`. \n"
          ]
        }
      ]
    },
    {
      "cell_type": "markdown",
      "source": [
        "### Get the names of model layers in the dictionary"
      ],
      "metadata": {
        "id": "JHp2aXo-VEuC"
      }
    },
    {
      "cell_type": "code",
      "source": [
        "# get the symbolic outputs of each \"key\" layer\n",
        "layer_dict = dict([(layer.name, layer) for layer in model.layers])\n",
        "print(layer_dict)"
      ],
      "metadata": {
        "colab": {
          "base_uri": "https://localhost:8080/"
        },
        "id": "o76vHJFPUWdp",
        "outputId": "09221d27-f3ff-47b8-8599-c9ae0dcc5e8a"
      },
      "execution_count": null,
      "outputs": [
        {
          "output_type": "stream",
          "name": "stdout",
          "text": [
            "{'input_layer': <InputLayer name=input_layer, built=True>, 'conv2d': <Conv2D name=conv2d, built=True>, 'conv2d_1': <Conv2D name=conv2d_1, built=True>, 'max_pooling2d': <MaxPooling2D name=max_pooling2d, built=True>, 'flatten': <Flatten name=flatten, built=True>, 'dense': <Dense name=dense, built=True>, 'dense_1': <Dense name=dense_1, built=True>}\n"
          ]
        }
      ]
    },
    {
      "cell_type": "code",
      "source": [
        "model.summary()"
      ],
      "metadata": {
        "colab": {
          "base_uri": "https://localhost:8080/",
          "height": 369
        },
        "id": "fr8_U7JXVleO",
        "outputId": "39bd83ba-2aa4-4b92-b45f-a43f382532a1"
      },
      "execution_count": null,
      "outputs": [
        {
          "output_type": "display_data",
          "data": {
            "text/plain": [
              "\u001b[1mModel: \"functional\"\u001b[0m\n"
            ],
            "text/html": [
              "<pre style=\"white-space:pre;overflow-x:auto;line-height:normal;font-family:Menlo,'DejaVu Sans Mono',consolas,'Courier New',monospace\"><span style=\"font-weight: bold\">Model: \"functional\"</span>\n",
              "</pre>\n"
            ]
          },
          "metadata": {}
        },
        {
          "output_type": "display_data",
          "data": {
            "text/plain": [
              "┏━━━━━━━━━━━━━━━━━━━━━━━━━━━━━━━━━┳━━━━━━━━━━━━━━━━━━━━━━━━┳━━━━━━━━━━━━━━━┓\n",
              "┃\u001b[1m \u001b[0m\u001b[1mLayer (type)                   \u001b[0m\u001b[1m \u001b[0m┃\u001b[1m \u001b[0m\u001b[1mOutput Shape          \u001b[0m\u001b[1m \u001b[0m┃\u001b[1m \u001b[0m\u001b[1m      Param #\u001b[0m\u001b[1m \u001b[0m┃\n",
              "┡━━━━━━━━━━━━━━━━━━━━━━━━━━━━━━━━━╇━━━━━━━━━━━━━━━━━━━━━━━━╇━━━━━━━━━━━━━━━┩\n",
              "│ input_layer (\u001b[38;5;33mInputLayer\u001b[0m)        │ (\u001b[38;5;45mNone\u001b[0m, \u001b[38;5;34m28\u001b[0m, \u001b[38;5;34m28\u001b[0m, \u001b[38;5;34m1\u001b[0m)      │             \u001b[38;5;34m0\u001b[0m │\n",
              "├─────────────────────────────────┼────────────────────────┼───────────────┤\n",
              "│ conv2d (\u001b[38;5;33mConv2D\u001b[0m)                 │ (\u001b[38;5;45mNone\u001b[0m, \u001b[38;5;34m26\u001b[0m, \u001b[38;5;34m26\u001b[0m, \u001b[38;5;34m4\u001b[0m)      │            \u001b[38;5;34m40\u001b[0m │\n",
              "├─────────────────────────────────┼────────────────────────┼───────────────┤\n",
              "│ conv2d_1 (\u001b[38;5;33mConv2D\u001b[0m)               │ (\u001b[38;5;45mNone\u001b[0m, \u001b[38;5;34m24\u001b[0m, \u001b[38;5;34m24\u001b[0m, \u001b[38;5;34m4\u001b[0m)      │           \u001b[38;5;34m148\u001b[0m │\n",
              "├─────────────────────────────────┼────────────────────────┼───────────────┤\n",
              "│ max_pooling2d (\u001b[38;5;33mMaxPooling2D\u001b[0m)    │ (\u001b[38;5;45mNone\u001b[0m, \u001b[38;5;34m12\u001b[0m, \u001b[38;5;34m12\u001b[0m, \u001b[38;5;34m4\u001b[0m)      │             \u001b[38;5;34m0\u001b[0m │\n",
              "├─────────────────────────────────┼────────────────────────┼───────────────┤\n",
              "│ flatten (\u001b[38;5;33mFlatten\u001b[0m)               │ (\u001b[38;5;45mNone\u001b[0m, \u001b[38;5;34m576\u001b[0m)            │             \u001b[38;5;34m0\u001b[0m │\n",
              "├─────────────────────────────────┼────────────────────────┼───────────────┤\n",
              "│ dense (\u001b[38;5;33mDense\u001b[0m)                   │ (\u001b[38;5;45mNone\u001b[0m, \u001b[38;5;34m128\u001b[0m)            │        \u001b[38;5;34m73,856\u001b[0m │\n",
              "├─────────────────────────────────┼────────────────────────┼───────────────┤\n",
              "│ dense_1 (\u001b[38;5;33mDense\u001b[0m)                 │ (\u001b[38;5;45mNone\u001b[0m, \u001b[38;5;34m10\u001b[0m)             │         \u001b[38;5;34m1,290\u001b[0m │\n",
              "└─────────────────────────────────┴────────────────────────┴───────────────┘\n"
            ],
            "text/html": [
              "<pre style=\"white-space:pre;overflow-x:auto;line-height:normal;font-family:Menlo,'DejaVu Sans Mono',consolas,'Courier New',monospace\">┏━━━━━━━━━━━━━━━━━━━━━━━━━━━━━━━━━┳━━━━━━━━━━━━━━━━━━━━━━━━┳━━━━━━━━━━━━━━━┓\n",
              "┃<span style=\"font-weight: bold\"> Layer (type)                    </span>┃<span style=\"font-weight: bold\"> Output Shape           </span>┃<span style=\"font-weight: bold\">       Param # </span>┃\n",
              "┡━━━━━━━━━━━━━━━━━━━━━━━━━━━━━━━━━╇━━━━━━━━━━━━━━━━━━━━━━━━╇━━━━━━━━━━━━━━━┩\n",
              "│ input_layer (<span style=\"color: #0087ff; text-decoration-color: #0087ff\">InputLayer</span>)        │ (<span style=\"color: #00d7ff; text-decoration-color: #00d7ff\">None</span>, <span style=\"color: #00af00; text-decoration-color: #00af00\">28</span>, <span style=\"color: #00af00; text-decoration-color: #00af00\">28</span>, <span style=\"color: #00af00; text-decoration-color: #00af00\">1</span>)      │             <span style=\"color: #00af00; text-decoration-color: #00af00\">0</span> │\n",
              "├─────────────────────────────────┼────────────────────────┼───────────────┤\n",
              "│ conv2d (<span style=\"color: #0087ff; text-decoration-color: #0087ff\">Conv2D</span>)                 │ (<span style=\"color: #00d7ff; text-decoration-color: #00d7ff\">None</span>, <span style=\"color: #00af00; text-decoration-color: #00af00\">26</span>, <span style=\"color: #00af00; text-decoration-color: #00af00\">26</span>, <span style=\"color: #00af00; text-decoration-color: #00af00\">4</span>)      │            <span style=\"color: #00af00; text-decoration-color: #00af00\">40</span> │\n",
              "├─────────────────────────────────┼────────────────────────┼───────────────┤\n",
              "│ conv2d_1 (<span style=\"color: #0087ff; text-decoration-color: #0087ff\">Conv2D</span>)               │ (<span style=\"color: #00d7ff; text-decoration-color: #00d7ff\">None</span>, <span style=\"color: #00af00; text-decoration-color: #00af00\">24</span>, <span style=\"color: #00af00; text-decoration-color: #00af00\">24</span>, <span style=\"color: #00af00; text-decoration-color: #00af00\">4</span>)      │           <span style=\"color: #00af00; text-decoration-color: #00af00\">148</span> │\n",
              "├─────────────────────────────────┼────────────────────────┼───────────────┤\n",
              "│ max_pooling2d (<span style=\"color: #0087ff; text-decoration-color: #0087ff\">MaxPooling2D</span>)    │ (<span style=\"color: #00d7ff; text-decoration-color: #00d7ff\">None</span>, <span style=\"color: #00af00; text-decoration-color: #00af00\">12</span>, <span style=\"color: #00af00; text-decoration-color: #00af00\">12</span>, <span style=\"color: #00af00; text-decoration-color: #00af00\">4</span>)      │             <span style=\"color: #00af00; text-decoration-color: #00af00\">0</span> │\n",
              "├─────────────────────────────────┼────────────────────────┼───────────────┤\n",
              "│ flatten (<span style=\"color: #0087ff; text-decoration-color: #0087ff\">Flatten</span>)               │ (<span style=\"color: #00d7ff; text-decoration-color: #00d7ff\">None</span>, <span style=\"color: #00af00; text-decoration-color: #00af00\">576</span>)            │             <span style=\"color: #00af00; text-decoration-color: #00af00\">0</span> │\n",
              "├─────────────────────────────────┼────────────────────────┼───────────────┤\n",
              "│ dense (<span style=\"color: #0087ff; text-decoration-color: #0087ff\">Dense</span>)                   │ (<span style=\"color: #00d7ff; text-decoration-color: #00d7ff\">None</span>, <span style=\"color: #00af00; text-decoration-color: #00af00\">128</span>)            │        <span style=\"color: #00af00; text-decoration-color: #00af00\">73,856</span> │\n",
              "├─────────────────────────────────┼────────────────────────┼───────────────┤\n",
              "│ dense_1 (<span style=\"color: #0087ff; text-decoration-color: #0087ff\">Dense</span>)                 │ (<span style=\"color: #00d7ff; text-decoration-color: #00d7ff\">None</span>, <span style=\"color: #00af00; text-decoration-color: #00af00\">10</span>)             │         <span style=\"color: #00af00; text-decoration-color: #00af00\">1,290</span> │\n",
              "└─────────────────────────────────┴────────────────────────┴───────────────┘\n",
              "</pre>\n"
            ]
          },
          "metadata": {}
        },
        {
          "output_type": "display_data",
          "data": {
            "text/plain": [
              "\u001b[1m Total params: \u001b[0m\u001b[38;5;34m226,004\u001b[0m (882.83 KB)\n"
            ],
            "text/html": [
              "<pre style=\"white-space:pre;overflow-x:auto;line-height:normal;font-family:Menlo,'DejaVu Sans Mono',consolas,'Courier New',monospace\"><span style=\"font-weight: bold\"> Total params: </span><span style=\"color: #00af00; text-decoration-color: #00af00\">226,004</span> (882.83 KB)\n",
              "</pre>\n"
            ]
          },
          "metadata": {}
        },
        {
          "output_type": "display_data",
          "data": {
            "text/plain": [
              "\u001b[1m Trainable params: \u001b[0m\u001b[38;5;34m75,334\u001b[0m (294.27 KB)\n"
            ],
            "text/html": [
              "<pre style=\"white-space:pre;overflow-x:auto;line-height:normal;font-family:Menlo,'DejaVu Sans Mono',consolas,'Courier New',monospace\"><span style=\"font-weight: bold\"> Trainable params: </span><span style=\"color: #00af00; text-decoration-color: #00af00\">75,334</span> (294.27 KB)\n",
              "</pre>\n"
            ]
          },
          "metadata": {}
        },
        {
          "output_type": "display_data",
          "data": {
            "text/plain": [
              "\u001b[1m Non-trainable params: \u001b[0m\u001b[38;5;34m0\u001b[0m (0.00 B)\n"
            ],
            "text/html": [
              "<pre style=\"white-space:pre;overflow-x:auto;line-height:normal;font-family:Menlo,'DejaVu Sans Mono',consolas,'Courier New',monospace\"><span style=\"font-weight: bold\"> Non-trainable params: </span><span style=\"color: #00af00; text-decoration-color: #00af00\">0</span> (0.00 B)\n",
              "</pre>\n"
            ]
          },
          "metadata": {}
        },
        {
          "output_type": "display_data",
          "data": {
            "text/plain": [
              "\u001b[1m Optimizer params: \u001b[0m\u001b[38;5;34m150,670\u001b[0m (588.56 KB)\n"
            ],
            "text/html": [
              "<pre style=\"white-space:pre;overflow-x:auto;line-height:normal;font-family:Menlo,'DejaVu Sans Mono',consolas,'Courier New',monospace\"><span style=\"font-weight: bold\"> Optimizer params: </span><span style=\"color: #00af00; text-decoration-color: #00af00\">150,670</span> (588.56 KB)\n",
              "</pre>\n"
            ]
          },
          "metadata": {}
        }
      ]
    },
    {
      "cell_type": "markdown",
      "source": [
        "### Visualise the filters (not the feature maps)"
      ],
      "metadata": {
        "id": "Mg595FUBVMrI"
      }
    },
    {
      "cell_type": "code",
      "source": [
        "layer_variables = model.get_layer('conv2d_1').get_weights() # get the layer variables from the model\n",
        "weights = layer_variables[0]  # weights are the actual filter values\n",
        "biases = layer_variables[1]   # biases of the layer\n",
        "w = np.array(weights)\n",
        "print(w.shape)\n",
        "\n",
        "# Now to visualize each of the filters we need to shift the axis\n",
        "w = np.moveaxis(w, 2, 0) # move axis 2 to 0\n",
        "w = np.moveaxis(w, 3, 0) # move axis 3 to 0\n",
        "print(w.shape)\n",
        "\n",
        "# the total filter in previous layers can be obtained from w.shape[1]\n",
        "total_filters_in_prev_layers = 4\n",
        "cols = 4\n",
        "rows = 1\n",
        "# rows * cols > total_filters\n",
        "# current_filter = which filter's weights we want to see\n",
        "current_filter = 1 # change this to see other filters as you wish\n",
        "fig = plt.figure(figsize=(10, 10))\n",
        "for i in range(w.shape[0]):\n",
        "    current_filter = i\n",
        "    for each_depth in range(w.shape[1]):\n",
        "        fig.add_subplot(rows, cols, current_filter+1)\n",
        "        plt.imshow(w[current_filter][each_depth], cmap='gray')"
      ],
      "metadata": {
        "colab": {
          "base_uri": "https://localhost:8080/",
          "height": 269
        },
        "id": "G1gp_PysVNxU",
        "outputId": "cc2845e1-9147-43bb-97e2-72798be8b687"
      },
      "execution_count": null,
      "outputs": [
        {
          "output_type": "stream",
          "name": "stdout",
          "text": [
            "(3, 3, 4, 4)\n",
            "(4, 4, 3, 3)\n"
          ]
        },
        {
          "output_type": "display_data",
          "data": {
            "text/plain": [
              "<Figure size 1000x1000 with 16 Axes>"
            ],
            "image/png": "[encoded data removed]"
          },
          "metadata": {}
        }
      ]
    },
    {
      "cell_type": "markdown",
      "source": [
        "### Sample image"
      ],
      "metadata": {
        "id": "lsOHtopQZ52t"
      }
    },
    {
      "cell_type": "markdown",
      "source": [
        "![Digit_9.jpeg](data:image/jpeg;base64,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)"
      ],
      "metadata": {
        "id": "UjDGmsdIc1xs"
      }
    },
    {
      "cell_type": "code",
      "source": [
        "import urllib.request\n",
        "# Load image from URL\n",
        "url = 'https://raw.githubusercontent.com/jyotie02/Deep_Learning/main/Deep_Learning/Digit_9.jpeg'  # Note: 'raw' URL needed\n",
        "resp = urllib.request.urlopen(url)\n",
        "image = np.asarray(bytearray(resp.read()), dtype=\"uint8\")\n",
        "img = cv2.imdecode(image, cv2.IMREAD_COLOR)\n",
        "# Convert to grayscale\n",
        "img = cv2.cvtColor(img, cv2.COLOR_BGR2GRAY)\n",
        "\n",
        "# Resize to 28x28\n",
        "img2 = cv2.resize(img, (28, 28))\n",
        "print(img2.shape)\n",
        "\n",
        "# Display\n",
        "plt.imshow(img2, cmap=\"gray\")\n",
        "plt.axis('off')\n",
        "plt.show()\n",
        "\n",
        "# Reshape for model input\n",
        "img2 = np.reshape(img2, (1, img2.shape[0], img2.shape[1], 1))\n",
        "print(img2.shape)\n"
      ],
      "metadata": {
        "colab": {
          "base_uri": "https://localhost:8080/",
          "height": 441
        },
        "id": "Kyg766UlXTTc",
        "outputId": "b5b2e38e-8ce2-4f9d-d802-a8b4ad3f2473"
      },
      "execution_count": null,
      "outputs": [
        {
          "output_type": "stream",
          "name": "stdout",
          "text": [
            "(28, 28)\n"
          ]
        },
        {
          "output_type": "display_data",
          "data": {
            "text/plain": [
              "<Figure size 640x480 with 1 Axes>"
            ],
            "image/png": "[encoded data removed]"
          },
          "metadata": {}
        },
        {
          "output_type": "stream",
          "name": "stdout",
          "text": [
            "(1, 28, 28, 1)\n"
          ]
        }
      ]
    },
    {
      "cell_type": "markdown",
      "source": [
        "### Obtain the intermediate layers for visualisation"
      ],
      "metadata": {
        "id": "J3nXewiEdC34"
      }
    },
    {
      "cell_type": "code",
      "source": [
        "# name of the layer to visualise\n",
        "layer_name = 'conv2d_1'\n",
        "# get the chopped model with layers between input and the layer_name(which we want to visualise)\n",
        "intermediate_layer_model = Model(inputs=model.input, outputs=model.get_layer(layer_name).output)\n",
        "# run the prediction with chopped model\n",
        "intermediate_output = intermediate_layer_model.predict(img2)\n",
        "# print(intermediate_output)\n",
        "print(intermediate_output.shape)\n",
        "output = np.squeeze(intermediate_output) # remove single dimension entries from array\n",
        "print(output.shape) # see the effect of squeeze\n",
        "output = np.moveaxis(output, 2, 0)\n",
        "print(output.shape)"
      ],
      "metadata": {
        "colab": {
          "base_uri": "https://localhost:8080/"
        },
        "id": "Sh7PlREzZO6D",
        "outputId": "39883107-4af6-4655-bfd9-7ce9da30ecca"
      },
      "execution_count": null,
      "outputs": [
        {
          "output_type": "stream",
          "name": "stdout",
          "text": [
            "\u001b[1m1/1\u001b[0m \u001b[32m━━━━━━━━━━━━━━━━━━━━\u001b[0m\u001b[37m\u001b[0m \u001b[1m0s\u001b[0m 169ms/step\n",
            "(1, 24, 24, 4)\n",
            "(24, 24, 4)\n",
            "(4, 24, 24)\n"
          ]
        }
      ]
    },
    {
      "cell_type": "markdown",
      "source": [
        "### Visualise the outputs of the intermediate layers"
      ],
      "metadata": {
        "id": "okNzXQoqgMJO"
      }
    },
    {
      "cell_type": "markdown",
      "source": [
        "### These are the actual activations obtained, that is, feature maps"
      ],
      "metadata": {
        "id": "MRpXNgQvgQx3"
      }
    },
    {
      "cell_type": "code",
      "source": [
        "fig = plt.figure(figsize=(15,15)) # size of each figure in the grid\n",
        "no_filters = 4\n",
        "cols = 4\n",
        "rows = 1 # cols * rows = no. of filters\n",
        "for i in range(output.shape[0]):\n",
        "    fig.add_subplot(rows, cols, i+1) # one subplot for each filter i+1 is the index of the filters\n",
        "    plt.imshow(output[i], cmap='gray') # show the filter outputs as grayscale images"
      ],
      "metadata": {
        "colab": {
          "base_uri": "https://localhost:8080/",
          "height": 313
        },
        "id": "8kp9DqrLfrsY",
        "outputId": "881f4d15-fada-48bf-e642-29934801b72a"
      },
      "execution_count": null,
      "outputs": [
        {
          "output_type": "display_data",
          "data": {
            "text/plain": [
              "<Figure size 1500x1500 with 4 Axes>"
            ],
            "image/png": "[encoded data removed]"
          },
          "metadata": {}
        }
      ]
    },
    {
      "cell_type": "markdown",
      "source": [
        "### Visualize what pattern in the input image excites a specific filter"
      ],
      "metadata": {
        "id": "0S4IBeHXoBXL"
      }
    },
    {
      "cell_type": "code",
      "source": [
        "import tensorflow as tf\n",
        "import numpy as np\n",
        "import matplotlib.pyplot as plt\n",
        "\n",
        "\n",
        "# Get the layer you want to visualize\n",
        "layer_name = 'conv2d_1'\n",
        "filter_index = 2\n",
        "\n",
        "# Create a sub-model up to the desired layer\n",
        "sub_model = tf.keras.Model(inputs=model.input, outputs=model.get_layer(layer_name).output)\n",
        "\n",
        "# Start from a sample image\n",
        "input_img = tf.Variable(tf.cast(img2, dtype=tf.float32))\n",
        "\n",
        "# Optimization loop to increase filter activation\n",
        "learning_rate = 10.0\n",
        "\n",
        "for i in range(40):  # Number of gradient ascent steps\n",
        "    with tf.GradientTape() as tape:\n",
        "        activation = sub_model(input_img) #Pass the image through the sub_model to get feature maps at conv2d_1.\n",
        "        #Extract only the activation of the selected filter.\n",
        "        #Loss function will be the mean of all the values in the output layer filter.\n",
        "        # after convolution assume that the shape of output is n*n then we'll average out all the values to have a single value\n",
        "        loss = tf.reduce_mean(activation[:, :, :, filter_index]) #\n",
        "    grads = tape.gradient(loss, input_img)  #Find gradient of loss_fxn w.r.t. the input_img\n",
        "    # Normalize gradients\n",
        "    grads /= (tf.sqrt(tf.reduce_mean(tf.square(grads))) + 1e-5)\n",
        "\n",
        "    # Gradient ascent\n",
        "    # Update the image in the direction that increases the filter’s response\n",
        "    input_img.assign_add(learning_rate * grads)\n",
        "\n",
        "# Process and display result\n",
        "result = input_img.numpy()[0]\n",
        "result = (result - result.mean()) / (result.std() + 1e-5)\n",
        "result = np.clip(result * 0.1 + 0.5, 0, 1)\n",
        "\n",
        "plt.imshow(result.squeeze(), cmap='gray')\n",
        "plt.title(f\"Filter {filter_index+1} in layer '{layer_name}'\")\n",
        "plt.axis('off')\n",
        "plt.show()"
      ],
      "metadata": {
        "colab": {
          "base_uri": "https://localhost:8080/",
          "height": 428
        },
        "id": "-83Wq2yShUUt",
        "outputId": "7cc1d207-e9ed-475b-fec2-99f7f962415f"
      },
      "execution_count": null,
      "outputs": [
        {
          "output_type": "display_data",
          "data": {
            "text/plain": [
              "<Figure size 640x480 with 1 Axes>"
            ],
            "image/png": "[encoded data removed]"
          },
          "metadata": {}
        }
      ]
    },
    {
      "cell_type": "code",
      "source": [],
      "metadata": {
        "id": "9pfmNkJ9lA1G"
      },
      "execution_count": null,
      "outputs": []
    }
  ],
  "metadata": {
    "colab": {
      "provenance": [],
      "gpuType": "T4"
    },
    "kernelspec": {
      "display_name": "Python 3",
      "name": "python3"
    },
    "language_info": {
      "codemirror_mode": {
        "name": "ipython",
        "version": 3
      },
      "file_extension": ".py",
      "mimetype": "text/x-python",
      "name": "python",
      "nbconvert_exporter": "python",
      "pygments_lexer": "ipython3",
      "version": "3.7.11"
    },
    "accelerator": "GPU"
  },
  "nbformat": 4,
  "nbformat_minor": 0
}