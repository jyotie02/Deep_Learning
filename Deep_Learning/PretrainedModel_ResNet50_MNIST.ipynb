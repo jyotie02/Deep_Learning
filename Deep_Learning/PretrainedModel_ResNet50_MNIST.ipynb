{
  "nbformat": 4,
  "nbformat_minor": 0,
  "metadata": {
    "colab": {
      "provenance": [],
      "gpuType": "T4"
    },
    "kernelspec": {
      "name": "python3",
      "display_name": "Python 3"
    },
    "language_info": {
      "name": "python"
    },
    "accelerator": "GPU"
  },
  "cells": [
    {
      "cell_type": "code",
      "source": [
        "import tensorflow as tf\n",
        "from tensorflow.keras.applications import ResNet50\n",
        "from tensorflow.keras.applications.resnet50 import preprocess_input\n",
        "from tensorflow.keras.layers import Input, Dense, Flatten\n",
        "from tensorflow.keras.models import Model\n",
        "import numpy as np\n",
        "from tensorflow.keras.utils import to_categorical"
      ],
      "metadata": {
        "id": "bC3bhKtrQb2x"
      },
      "execution_count": 5,
      "outputs": []
    },
    {
      "cell_type": "code",
      "source": [
        "#Load MNIST dataset\n",
        "(x_train, y_train), (x_test, y_test) = tf.keras.datasets.mnist.load_data()"
      ],
      "metadata": {
        "id": "6g9Z6SxwQdrJ"
      },
      "execution_count": 2,
      "outputs": []
    },
    {
      "cell_type": "markdown",
      "source": [
        "# ResNet50: This is a pre-trained convolutional neural network (CNN) architecture included in the keras.applications module."
      ],
      "metadata": {
        "id": "CCKZtzE6Tolb"
      }
    },
    {
      "cell_type": "code",
      "source": [
        "# reshape the data\n",
        "X_train = x_train.reshape((x_train.shape[0], 28, 28))\n",
        "X_test = x_test.reshape((x_test.shape[0], 28, 28))\n",
        "# change the type to float\n",
        "X_train = X_train.astype('float32')\n",
        "X_test = X_test.astype('float32')\n",
        "\n",
        "# convert data to 3 channels since pretrained model ResNet50 expected image data with 3 channels and\n",
        "X_train = np.stack((X_train,)*3, axis=-1)\n",
        "X_test = np.stack((X_test,)*3, axis=-1)\n",
        "\n",
        "\n",
        "X_train = tf.image.resize(X_train, (32, 32)).numpy()\n",
        "X_test = tf.image.resize(X_test, (32, 32)).numpy()\n",
        "\n",
        "\n",
        "Y_train = to_categorical(y_train)\n",
        "Y_test = to_categorical(y_test)"
      ],
      "metadata": {
        "id": "iT69BCP7QiqQ"
      },
      "execution_count": 6,
      "outputs": []
    },
    {
      "cell_type": "markdown",
      "source": [
        "input_shape: optional shape tuple, only to be specified if include_top is False (otherwise the input shape has to be (224, 224, 3) (with \"channels_last\" data format) or (3, 224, 224) (with \"channels_first\" data format). It should have exactly 3 inputs channels, and width and height should be no smaller than 32. E.g. (200, 200, 3) would be one valid value."
      ],
      "metadata": {
        "id": "GeOx60xLRGBj"
      }
    },
    {
      "cell_type": "code",
      "source": [
        "#Load ResNet50 WITHOUT top layer (feature extractor)\n",
        "resnet = ResNet50(weights='imagenet', include_top=False, input_shape=(32, 32, 3))\n",
        "resnet.trainable = False  # freeze ResNet"
      ],
      "metadata": {
        "id": "VIqQdPjpQLHC"
      },
      "execution_count": 7,
      "outputs": []
    },
    {
      "cell_type": "code",
      "source": [
        "# Extract features\n",
        "features_train = resnet.predict(X_train, batch_size=64, verbose=1)\n",
        "features_test = resnet.predict(X_test, batch_size=64, verbose=1)\n",
        "\n",
        "print(\"Feature shape:\", features_train.shape)\n",
        "\n",
        "# Flatten features for feed forward network (FFN)\n",
        "features_train = features_train.reshape((features_train.shape[0], -1))\n",
        "features_test = features_test.reshape((features_test.shape[0], -1))\n",
        "\n",
        "print(\"Flattened feature shape:\", features_train.shape)"
      ],
      "metadata": {
        "colab": {
          "base_uri": "https://localhost:8080/"
        },
        "id": "DNHaq-WJP0HQ",
        "outputId": "7d7b4c01-b935-4df7-9f69-904c2caea623"
      },
      "execution_count": 9,
      "outputs": [
        {
          "output_type": "stream",
          "name": "stdout",
          "text": [
            "\u001b[1m938/938\u001b[0m \u001b[32m━━━━━━━━━━━━━━━━━━━━\u001b[0m\u001b[37m\u001b[0m \u001b[1m318s\u001b[0m 336ms/step\n",
            "\u001b[1m157/157\u001b[0m \u001b[32m━━━━━━━━━━━━━━━━━━━━\u001b[0m\u001b[37m\u001b[0m \u001b[1m49s\u001b[0m 311ms/step\n",
            "Feature shape: (60000, 1, 1, 2048)\n",
            "Flattened feature shape: (60000, 2048)\n"
          ]
        }
      ]
    },
    {
      "cell_type": "code",
      "source": [
        "# Define a simple FNN classifier\n",
        "inputs = Input(shape=(features_train.shape[1],))\n",
        "x = Dense(32, activation='relu')(inputs)\n",
        "x = Dense(16, activation='relu')(x)\n",
        "outputs = Dense(10, activation='softmax')(x)\n",
        "\n",
        "model = Model(inputs, outputs)\n",
        "\n",
        "model.compile(optimizer='adam', loss='sparse_categorical_crossentropy', metrics=['accuracy'])"
      ],
      "metadata": {
        "id": "NhIC3KqAS_sJ"
      },
      "execution_count": 10,
      "outputs": []
    },
    {
      "cell_type": "markdown",
      "source": [
        "### Another way to define a model with pretrained model\n",
        "#### Model uses ResNet50 as a feature extractor (pretrained on ImageNet).Feed those extracted features into a basic Feedforward Neural Network (FNN) for classifying MNIST digits.\n",
        "\n",
        "model = Sequential()\\\n",
        "model.add(ResNet50(include_top=False, pooling='avg', weights='imagenet'))\\\n",
        "model.add(Dense(16, activation='relu'))\\\n",
        "model.add(Dense(10, activation='softmax'))\\\n",
        "model.layers[0].trainable=False\\\n",
        "model.summary()\\"
      ],
      "metadata": {
        "id": "CUm8ULLTTfEk"
      }
    },
    {
      "cell_type": "code",
      "source": [
        "# Train the classifier\n",
        "model.fit(features_train, y_train, epochs=10, batch_size=64, validation_data=(features_test, y_test))"
      ],
      "metadata": {
        "colab": {
          "base_uri": "https://localhost:8080/"
        },
        "id": "qTuWgx4STSMQ",
        "outputId": "4b9afd5e-00cb-498d-c7d2-e3f4ddde4daf"
      },
      "execution_count": 11,
      "outputs": [
        {
          "output_type": "stream",
          "name": "stdout",
          "text": [
            "Epoch 1/10\n",
            "\u001b[1m938/938\u001b[0m \u001b[32m━━━━━━━━━━━━━━━━━━━━\u001b[0m\u001b[37m\u001b[0m \u001b[1m14s\u001b[0m 13ms/step - accuracy: 0.7648 - loss: 0.7649 - val_accuracy: 0.9222 - val_loss: 0.2614\n",
            "Epoch 2/10\n",
            "\u001b[1m938/938\u001b[0m \u001b[32m━━━━━━━━━━━━━━━━━━━━\u001b[0m\u001b[37m\u001b[0m \u001b[1m11s\u001b[0m 12ms/step - accuracy: 0.9377 - loss: 0.1969 - val_accuracy: 0.9473 - val_loss: 0.1724\n",
            "Epoch 3/10\n",
            "\u001b[1m938/938\u001b[0m \u001b[32m━━━━━━━━━━━━━━━━━━━━\u001b[0m\u001b[37m\u001b[0m \u001b[1m5s\u001b[0m 6ms/step - accuracy: 0.9483 - loss: 0.1626 - val_accuracy: 0.9438 - val_loss: 0.1845\n",
            "Epoch 4/10\n",
            "\u001b[1m938/938\u001b[0m \u001b[32m━━━━━━━━━━━━━━━━━━━━\u001b[0m\u001b[37m\u001b[0m \u001b[1m7s\u001b[0m 7ms/step - accuracy: 0.9533 - loss: 0.1405 - val_accuracy: 0.9519 - val_loss: 0.1529\n",
            "Epoch 5/10\n",
            "\u001b[1m938/938\u001b[0m \u001b[32m━━━━━━━━━━━━━━━━━━━━\u001b[0m\u001b[37m\u001b[0m \u001b[1m6s\u001b[0m 6ms/step - accuracy: 0.9589 - loss: 0.1275 - val_accuracy: 0.9575 - val_loss: 0.1408\n",
            "Epoch 6/10\n",
            "\u001b[1m938/938\u001b[0m \u001b[32m━━━━━━━━━━━━━━━━━━━━\u001b[0m\u001b[37m\u001b[0m \u001b[1m8s\u001b[0m 9ms/step - accuracy: 0.9614 - loss: 0.1193 - val_accuracy: 0.9489 - val_loss: 0.1697\n",
            "Epoch 7/10\n",
            "\u001b[1m938/938\u001b[0m \u001b[32m━━━━━━━━━━━━━━━━━━━━\u001b[0m\u001b[37m\u001b[0m \u001b[1m6s\u001b[0m 6ms/step - accuracy: 0.9632 - loss: 0.1118 - val_accuracy: 0.9573 - val_loss: 0.1369\n",
            "Epoch 8/10\n",
            "\u001b[1m938/938\u001b[0m \u001b[32m━━━━━━━━━━━━━━━━━━━━\u001b[0m\u001b[37m\u001b[0m \u001b[1m8s\u001b[0m 9ms/step - accuracy: 0.9652 - loss: 0.1048 - val_accuracy: 0.9553 - val_loss: 0.1486\n",
            "Epoch 9/10\n",
            "\u001b[1m938/938\u001b[0m \u001b[32m━━━━━━━━━━━━━━━━━━━━\u001b[0m\u001b[37m\u001b[0m \u001b[1m9s\u001b[0m 7ms/step - accuracy: 0.9660 - loss: 0.1045 - val_accuracy: 0.9600 - val_loss: 0.1379\n",
            "Epoch 10/10\n",
            "\u001b[1m938/938\u001b[0m \u001b[32m━━━━━━━━━━━━━━━━━━━━\u001b[0m\u001b[37m\u001b[0m \u001b[1m9s\u001b[0m 6ms/step - accuracy: 0.9695 - loss: 0.0918 - val_accuracy: 0.9594 - val_loss: 0.1405\n"
          ]
        },
        {
          "output_type": "execute_result",
          "data": {
            "text/plain": [
              "<keras.src.callbacks.history.History at 0x7d85e0b63ad0>"
            ]
          },
          "metadata": {},
          "execution_count": 11
        }
      ]
    },
    {
      "cell_type": "code",
      "source": [
        "# Evaluate\n",
        "test_loss, test_acc = model.evaluate(features_test, y_test)\n",
        "print(f\"Test Accuracy: {test_acc:.4f}\")\n"
      ],
      "metadata": {
        "colab": {
          "base_uri": "https://localhost:8080/"
        },
        "id": "4Rix1TkePi1y",
        "outputId": "29d7f9a5-1231-41ae-8464-23275850fd49"
      },
      "execution_count": 12,
      "outputs": [
        {
          "output_type": "stream",
          "name": "stdout",
          "text": [
            "\u001b[1m313/313\u001b[0m \u001b[32m━━━━━━━━━━━━━━━━━━━━\u001b[0m\u001b[37m\u001b[0m \u001b[1m1s\u001b[0m 3ms/step - accuracy: 0.9536 - loss: 0.1572\n",
            "Test Accuracy: 0.9594\n"
          ]
        }
      ]
    }
  ]
}
