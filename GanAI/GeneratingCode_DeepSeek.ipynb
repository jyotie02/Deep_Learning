{
  "nbformat": 4,
  "nbformat_minor": 0,
  "metadata": {
    "colab": {
      "provenance": [],
      "gpuType": "V28"
    },
    "kernelspec": {
      "name": "python3",
      "display_name": "Python 3"
    },
    "language_info": {
      "name": "python"
    },
    "accelerator": "TPU"
  },
  "cells": [
    {
      "cell_type": "code",
      "execution_count": 1,
      "metadata": {
        "colab": {
          "base_uri": "https://localhost:8080/"
        },
        "id": "uiqh1TikjN2N",
        "outputId": "7f9edca0-0d07-4cee-a325-54c5868afe78"
      },
      "outputs": [
        {
          "output_type": "stream",
          "name": "stderr",
          "text": [
            "/usr/local/lib/python3.11/dist-packages/huggingface_hub/utils/_auth.py:94: UserWarning: \n",
            "The secret `HF_TOKEN` does not exist in your Colab secrets.\n",
            "To authenticate with the Hugging Face Hub, create a token in your settings tab (https://huggingface.co/settings/tokens), set it as secret in your Google Colab and restart your session.\n",
            "You will be able to reuse this secret in all of your notebooks.\n",
            "Please note that authentication is recommended but still optional to access public models or datasets.\n",
            "  warnings.warn(\n"
          ]
        }
      ],
      "source": [
        "from transformers import AutoTokenizer, AutoModelForCausalLM\n",
        "import torch\n",
        "\n",
        "model_name = \"deepseek-ai/deepseek-coder-1.3b-base\"  # or any other from the list\n",
        "\n",
        "tokenizer = AutoTokenizer.from_pretrained(model_name, trust_remote_code=True)\n",
        "model = AutoModelForCausalLM.from_pretrained(\n",
        "    model_name,\n",
        "    device_map=\"auto\",\n",
        "    torch_dtype=torch.float16\n",
        ")\n"
      ]
    },
    {
      "cell_type": "code",
      "source": [
        "prompt = \"'''Write a function to reverse a string in Python'''\\n\\ndef reverse_string(s):\"\n",
        "\n",
        "inputs = tokenizer(prompt, return_tensors=\"pt\")#.to(\"cuda\")\n",
        "\n",
        "with torch.no_grad():\n",
        "    outputs = model.generate(\n",
        "        **inputs,\n",
        "        max_new_tokens=100,\n",
        "        do_sample=True,\n",
        "        temperature=0.7,\n",
        "        top_p=0.9,\n",
        "        pad_token_id=tokenizer.eos_token_id\n",
        "    )\n",
        "\n",
        "print(tokenizer.decode(outputs[0], skip_special_tokens=True))"
      ],
      "metadata": {
        "colab": {
          "base_uri": "https://localhost:8080/"
        },
        "id": "3rnHm3mCceaL",
        "outputId": "b2453888-ea96-43fd-e62e-d7356b0afc5f"
      },
      "execution_count": 2,
      "outputs": [
        {
          "output_type": "stream",
          "name": "stdout",
          "text": [
            "'''Write a function to reverse a string in Python'''\n",
            "\n",
            "def reverse_string(s):\n",
            "    rev = ''\n",
            "    for i in s:\n",
            "        rev = i + rev\n",
            "    return rev\n",
            "\n",
            "string = input(\"Enter a string: \")\n",
            "print(reverse_string(string))\n"
          ]
        }
      ]
    },
    {
      "cell_type": "code",
      "source": [
        "prompt1 = \"'''Write a function to find the number of letter a in the srting'''\\n\\ndef a_string(s):\"\n",
        "\n",
        "inputs1 = tokenizer(prompt1, return_tensors=\"pt\")#.to(\"cuda\")\n",
        "\n",
        "with torch.no_grad():\n",
        "    outputs1 = model.generate(\n",
        "        **inputs1,\n",
        "        max_new_tokens=100,\n",
        "        do_sample=True,\n",
        "        temperature=0.7,\n",
        "        top_p=0.9,\n",
        "        pad_token_id=tokenizer.eos_token_id\n",
        "    )\n",
        "\n",
        "print(tokenizer.decode(outputs1[0], skip_special_tokens=True))"
      ],
      "metadata": {
        "colab": {
          "base_uri": "https://localhost:8080/"
        },
        "id": "8is5jNpJbNnG",
        "outputId": "565e495f-d57d-4286-870a-6e1d921f76cd"
      },
      "execution_count": 3,
      "outputs": [
        {
          "output_type": "stream",
          "name": "stdout",
          "text": [
            "'''Write a function to find the number of letter a in the srting'''\n",
            "\n",
            "def a_string(s):\n",
            "    count = 0\n",
            "    for i in s:\n",
            "        if i == 'a':\n",
            "            count += 1\n",
            "    return count\n",
            "\n",
            "print(a_string(\"hello\"))\n"
          ]
        }
      ]
    }
  ]
}