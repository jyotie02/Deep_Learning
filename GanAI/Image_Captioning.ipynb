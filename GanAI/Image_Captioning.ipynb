{
  "nbformat": 4,
  "nbformat_minor": 0,
  "metadata": {
    "colab": {
      "provenance": [],
      "gpuType": "T4"
    },
    "kernelspec": {
      "name": "python3",
      "display_name": "Python 3"
    },
    "language_info": {
      "name": "python"
    },
    "accelerator": "GPU"
  },
  "cells": [
    {
      "cell_type": "code",
      "execution_count": 1,
      "metadata": {
        "id": "oBq-j-graX4A"
      },
      "outputs": [],
      "source": [
        "import torch\n",
        "from pathlib import Path\n",
        "from fastdownload import download_url\n",
        "from fastai.vision.all import *"
      ]
    },
    {
      "cell_type": "code",
      "source": [
        "from transformers import AutoProcessor, AutoModelForCausalLM"
      ],
      "metadata": {
        "id": "N0Mg2qpZabFP"
      },
      "execution_count": 2,
      "outputs": []
    },
    {
      "cell_type": "code",
      "source": [
        "processor = AutoProcessor.from_pretrained(\"microsoft/git-base-coco\")\n",
        "model = AutoModelForCausalLM.from_pretrained(\"microsoft/git-base-coco\")"
      ],
      "metadata": {
        "id": "tj2eghs9ajFZ"
      },
      "execution_count": null,
      "outputs": []
    },
    {
      "cell_type": "markdown",
      "source": [
        "## Example 1"
      ],
      "metadata": {
        "id": "FQfEVZRocPQL"
      }
    },
    {
      "cell_type": "code",
      "source": [
        "img_url = 'https://images.pexels.com/photos/13397838/pexels-photo-13397838.jpeg'"
      ],
      "metadata": {
        "id": "qOuMVvU0ajHc"
      },
      "execution_count": 4,
      "outputs": []
    },
    {
      "cell_type": "code",
      "source": [
        "path = download_url(img_url, dest=\".\")"
      ],
      "metadata": {
        "id": "uxap8xzbajJz"
      },
      "execution_count": null,
      "outputs": []
    },
    {
      "cell_type": "code",
      "source": [
        "img = Image.open(str(path))\n",
        "show_image(img)"
      ],
      "metadata": {
        "id": "5GDB3BR6ajP8"
      },
      "execution_count": null,
      "outputs": []
    },
    {
      "cell_type": "code",
      "source": [
        "inputs = processor(images=img, return_tensors=\"pt\").pixel_values\n",
        "\n",
        "generated_ids = model.generate(pixel_values=inputs, max_length=50)\n",
        "generated_caption = processor.batch_decode(generated_ids, skip_special_tokens=True)[0]\n",
        "print(generated_caption)"
      ],
      "metadata": {
        "id": "ogp4ukYOavOT"
      },
      "execution_count": null,
      "outputs": []
    },
    {
      "cell_type": "markdown",
      "source": [
        "## Example 2"
      ],
      "metadata": {
        "id": "agS4u7PZcSP6"
      }
    },
    {
      "cell_type": "code",
      "source": [
        "img_url1 = 'https://raw.githubusercontent.com/jyotie02/Deep_Learning/main/Deep_Learning/Digit_9.jpeg'"
      ],
      "metadata": {
        "id": "dwUXL48vawTN"
      },
      "execution_count": 8,
      "outputs": []
    },
    {
      "cell_type": "code",
      "source": [
        "path1 = download_url(img_url1, dest=\".\")"
      ],
      "metadata": {
        "id": "xqTK_dNwbhgi"
      },
      "execution_count": null,
      "outputs": []
    },
    {
      "cell_type": "code",
      "source": [
        "img1 = Image.open(str(path1))\n",
        "show_image(img1)"
      ],
      "metadata": {
        "id": "T2-RUUkxbaoi"
      },
      "execution_count": null,
      "outputs": []
    },
    {
      "cell_type": "code",
      "source": [
        "inputs1 = processor(images=img1, return_tensors=\"pt\").pixel_values\n",
        "\n",
        "generated_ids1 = model.generate(pixel_values=inputs1, max_length=50)\n",
        "generated_caption1 = processor.batch_decode(generated_ids1, skip_special_tokens=True)[0]\n",
        "print(generated_caption1)"
      ],
      "metadata": {
        "id": "x6_Tw9Glbli6"
      },
      "execution_count": null,
      "outputs": []
    }
  ]
}